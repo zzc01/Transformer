{
 "cells": [
  {
   "cell_type": "markdown",
   "id": "22003c4f",
   "metadata": {},
   "source": [
    "# Cleaning the German-English Language Sentence Pair"
   ]
  },
  {
   "cell_type": "markdown",
   "id": "57b0cf58",
   "metadata": {},
   "source": [
    "The German-English data set is downloaded from http://www.manythings.org/anki/<br>"
   ]
  },
  {
   "cell_type": "markdown",
   "id": "fbc1069a",
   "metadata": {},
   "source": [
    "This script does the following clean up steps:\n",
    "1. Ignore all chars that cannot be represented in ASCII\n",
    "2. Convert all chars to lowercase \n",
    "3. Remove punctuations \n",
    "4. Remove all non-pretable chars \n",
    "5. Remove none alphabet words "
   ]
  },
  {
   "cell_type": "markdown",
   "id": "21486f70",
   "metadata": {},
   "source": [
    "This code is refereneced from https://machinelearningmastery.com/develop-neural-machine-translation-system-keras/ "
   ]
  },
  {
   "cell_type": "code",
   "execution_count": 1,
   "id": "7092e2ed",
   "metadata": {},
   "outputs": [],
   "source": [
    "import string\n",
    "import re\n",
    "from pickle import dump \n",
    "from unicodedata import normalize \n",
    "from numpy import array "
   ]
  },
  {
   "cell_type": "code",
   "execution_count": 2,
   "id": "069b3deb",
   "metadata": {},
   "outputs": [],
   "source": [
    "def load_doc(filename):\n",
    "    file = open(filename, mode='rt', encoding='utf-8')\n",
    "    text = file.read()\n",
    "    file.close()\n",
    "    return text"
   ]
  },
  {
   "cell_type": "code",
   "execution_count": 3,
   "id": "b8e39346",
   "metadata": {},
   "outputs": [],
   "source": [
    "def to_pairs(doc):\n",
    "    lines = doc.strip().split('\\n')\n",
    "    pairs = [l.split('\\t')[0:2] for l in lines]\n",
    "    pairs = pairs[:20000]\n",
    "    return pairs"
   ]
  },
  {
   "cell_type": "code",
   "execution_count": 4,
   "id": "047894a0",
   "metadata": {},
   "outputs": [
    {
     "name": "stdout",
     "output_type": "stream",
     "text": [
      "Haltet ihr Tom wirklich für verlässlich?\n",
      "Haltet ihr Tom wirklich für verlässlich?\n",
      "b'Haltet ihr Tom wirklich fur verlasslich?'\n"
     ]
    }
   ],
   "source": [
    "line = \"This is a sentence with non-ASCII characters.\"\n",
    "# Do you know why Tom wasn't there yesterday?\tWeißt du, warum Tom gestern nicht anwesend war? \n",
    "line = \"Weißt du, warum Tom gestern nicht anwesend war?\"\n",
    "# Do you really believe that Tom is reliable?\tHaltet ihr Tom wirklich für verlässlich?\n",
    "line = \"Haltet ihr Tom wirklich für verlässlich?\"\n",
    "print(line)\n",
    "#  Converts all of the characters to their decomposed form\n",
    "normalized_line = normalize('NFD', line)\n",
    "print(normalized_line)\n",
    "# converts the string to ASCII, ignoring any characters that cannot be represented in ASCII\n",
    "encoded_line = normalized_line.encode('ascii', 'ignore')\n",
    "print(encoded_line)"
   ]
  },
  {
   "cell_type": "code",
   "execution_count": 5,
   "id": "0d9a4579",
   "metadata": {},
   "outputs": [
    {
     "name": "stdout",
     "output_type": "stream",
     "text": [
      "0123456789abcdefghijklmnopqrstuvwxyzABCDEFGHIJKLMNOPQRSTUVWXYZ!\"#$%&'()*+,-./:;<=>?@[\\]^_`{|}~ \t\n",
      "\u000b",
      "\f",
      "\n",
      "\n",
      "0123456789abcdefghijklmnopqrstuvwxyzABCDEFGHIJKLMNOPQRSTUVWXYZ!\"\\#\\$%\\&'\\(\\)\\*\\+,\\-\\./:;<=>\\?@\\[\\\\\\]\\^_`\\{\\|\\}\\~\\ \\\t\\\n",
      "\\\u000b",
      "\\\f",
      "\n",
      "\n",
      "0123456789abcdefghijklmnopqrstuvwxyzABCDEFGHIJKLMNOPQRSTUVWXYZ!\"\\#\\$%\\&'\\(\\)\\*\\+,\\-\\./:;<=>\\?@\\[\\\\\\]\\^_`\\{\\|\\}\\~\\ \\\t\\\n",
      "\\\u000b",
      "\\\f",
      "\n",
      "\n"
     ]
    }
   ],
   "source": [
    "# re_print = re.compile('[^%s]' % re.escape(string.printable))\n",
    "print(string.printable +'\\n')\n",
    "print(re.escape(string.printable) + '\\n')\n",
    "print('%s' % re.escape(string.printable) + '\\n')"
   ]
  },
  {
   "cell_type": "code",
   "execution_count": 6,
   "id": "ea5dadc1",
   "metadata": {},
   "outputs": [],
   "source": [
    "def clean_pairs(pariedLines):\n",
    "    cleaned = list()\n",
    "    # remove non-printable chars\n",
    "    re_print = re.compile('[^%s]' % re.escape(string.printable))\n",
    "    table = str.maketrans('', '', string.punctuation)\n",
    "    for pair in pariedLines:\n",
    "        clean_pair = list()\n",
    "        for sentence in pair:\n",
    "            sentence = normalize('NFD', sentence).encode('ascii', 'ignore')\n",
    "            sentence = sentence.decode('UTF-8')\n",
    "            sentence = sentence.split()\n",
    "            sentence = [word.lower() for word in sentence]\n",
    "            sentence = [word.translate(table) for word in sentence]\n",
    "            # remove non-printable chars\n",
    "            sentence = [re_print.sub('', word) for word in sentence]\n",
    "            # Remove words with numbers? how to deal with numbers? \n",
    "            # How to deal with upper case? And , . ? % these signs? \n",
    "            sentence = [word for word in sentence if word.isalpha()] \n",
    "            clean_pair.append(' '.join(sentence))\n",
    "        cleaned.append(clean_pair)\n",
    "    return array(cleaned)"
   ]
  },
  {
   "cell_type": "code",
   "execution_count": 7,
   "id": "f24ca9fb",
   "metadata": {},
   "outputs": [],
   "source": [
    "def save_clean_data(sentences, filename):\n",
    "    dump(sentences, open(filename, 'wb'))\n",
    "    print(f'Saved: {filename}')"
   ]
  },
  {
   "cell_type": "code",
   "execution_count": 8,
   "id": "789c6e1c",
   "metadata": {},
   "outputs": [
    {
     "name": "stdout",
     "output_type": "stream",
     "text": [
      "number of setences = 100000\n",
      "max_sentence_len = 5, 5\n",
      "Saved: english-german.pkl\n",
      "[tom really needs help now] -> [tom braucht jetzt wirklich hilfe]\n",
      "[tom really made it happen] -> [tom hat es wirklich moglich gemacht]\n",
      "[tom really likes swimming] -> [tom schwimmt fur sein leben gern]\n",
      "[tom really got a bad deal] -> [tom hat wirklich einen schlechten deal bekommen]\n",
      "[tom really enjoys his job] -> [tom gefallt seine arbeit wirklich sehr]\n",
      "[tom really does hate dogs] -> [tom hasst hunde wirklich]\n",
      "[tom realized he was wrong] -> [tom erkannte dass er sich getauscht hatte]\n",
      "[tom read a selfhelp book] -> [tom hat ein selbsthilfebuch gelesen]\n",
      "[tom reached for his sword] -> [tom griff nach seinem schwert]\n",
      "[tom rarely makes mistakes] -> [tom macht selten fehler]\n",
      "[tom rarely asks questions] -> [tom stellt selten fragen]\n",
      "[tom raises racing pigeons] -> [tom zieht renntauben auf]\n",
      "[tom raised his right hand] -> [tom hob seine rechte hand]\n",
      "[tom quickly lost interest] -> [tom verlor schnell das interesse]\n",
      "[tom quickly lost interest] -> [tom verlor rasch das interesse]\n",
      "[tom quickly left the room] -> [tom verlie rasch den raum]\n",
      "[tom quickly became famous] -> [tom wurde schnell beruhmt]\n",
      "[tom questioned everything] -> [tom stellte alles in frage]\n",
      "[tom put out his cigarette] -> [tom druckte seine zigarette aus]\n",
      "[tom put on some sunscreen] -> [tom cremte sich mit sonnencreme ein]\n",
      "[tom put on some sunscreen] -> [tom cremte sich ein]\n",
      "[tom put on his headphones] -> [tom setzte seinen kopfhorer auf]\n",
      "[tom put on an old tshirt] -> [tom zog sich ein altes tshirt an]\n",
      "[tom put his shirt back on] -> [tom zog sein hemd wieder an]\n",
      "[tom put his room in order] -> [tom hat sein zimmer aufgeraumt]\n",
      "[tom put his boots back on] -> [tom zog sich seine stiefel wieder an]\n",
      "[tom put down his suitcase] -> [tom stellte seinen koffer ab]\n",
      "[tom put a tape in the vcr] -> [tom legte eine kassette in den videorekorder ein]\n",
      "[tom put a cap on his head] -> [tom setzte sich eine kappe auf den kopf]\n",
      "[tom pushed mary backwards] -> [tom schubste maria zuruck]\n",
      "[tom punished his children] -> [tom hat seine kinder bestraft]\n",
      "[tom pulled the fire alarm] -> [tom loste den feueralarm aus]\n",
      "[tom pulled the doors shut] -> [tom zog die turen zu]\n",
      "[tom pulled out his iphone] -> [tom zog sein iphone hervor]\n",
      "[tom promised not to smoke] -> [tom versprach mir nicht zu rauchen]\n",
      "[tom promised hed tell us] -> [tom versprach es uns mitzuteilen]\n",
      "[tom promised hed help us] -> [tom versprach dass er uns helfen wurde]\n",
      "[tom probably doesnt care] -> [tom ist es wahrscheinlich egal]\n",
      "[tom pretended to be angry] -> [tom stellte sich wutend]\n",
      "[tom pretended to be angry] -> [tom tat so als ware er wutend]\n",
      "[tom pretended not to hear] -> [tom stellte sich taub]\n",
      "[tom pretended not to hear] -> [tom tat so als hore er nichts]\n",
      "[tom pretended he was sick] -> [tom spielte krank]\n",
      "[tom prefers tea to coffee] -> [tom mag lieber tee als kaffee]\n",
      "[tom predicted our success] -> [tom hat unseren erfolg vorhergesagt]\n",
      "[tom practices black magic] -> [tom ubt schwarze magie aus]\n",
      "[tom politely corrected me] -> [tom berichtigte mich hoflich]\n",
      "[tom pointed at the screen] -> [tom zeigte auf den bildschirm]\n",
      "[tom pointed a gun at mary] -> [tom richtete ein gewehr auf maria]\n",
      "[tom plays the violin well] -> [tom spielt gut geige]\n"
     ]
    }
   ],
   "source": [
    "if __name__ == '__main__' :\n",
    "    filename = 'deu-eng/deu.txt'\n",
    "    doc = load_doc(filename)\n",
    "    pairs = to_pairs(doc)\n",
    "    cleaned_pairs = clean_pairs(pairs)\n",
    "    print(f'number of setences = {len(cleaned_pairs)}')\n",
    "    print(f'max_sentence_len = {len(cleaned_pairs[-1][0].split())}, {len(cleaned_pairs[-1][1].split())}')        \n",
    "    save_clean_data(cleaned_pairs, 'english-german.pkl')\n",
    "    for i in range(50):\n",
    "        print('[%s] -> [%s]' % (cleaned_pairs[-i-1,0], cleaned_pairs[-i-1,1]))"
   ]
  }
 ],
 "metadata": {
  "kernelspec": {
   "display_name": "Python 3 (ipykernel)",
   "language": "python",
   "name": "python3"
  },
  "language_info": {
   "codemirror_mode": {
    "name": "ipython",
    "version": 3
   },
   "file_extension": ".py",
   "mimetype": "text/x-python",
   "name": "python",
   "nbconvert_exporter": "python",
   "pygments_lexer": "ipython3",
   "version": "3.7.16"
  }
 },
 "nbformat": 4,
 "nbformat_minor": 5
}
