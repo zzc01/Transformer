{
 "cells": [
  {
   "cell_type": "markdown",
   "id": "cc76acd2",
   "metadata": {},
   "source": [
    "# The Translator With Transformer Architecture"
   ]
  },
  {
   "cell_type": "markdown",
   "id": "d09d1783",
   "metadata": {},
   "source": [
    "# Library"
   ]
  },
  {
   "cell_type": "code",
   "execution_count": 1,
   "id": "f6f3131c",
   "metadata": {},
   "outputs": [],
   "source": [
    "# Commented out IPython magic to ensure Python compatibility.\n",
    "# Install the most re version of TensorFlow to use the improved\n",
    "# masking support for `tf.keras.layers.MultiHeadAttention`.\n",
    "# %apt install --allow-change-held-packages libcudnn8=8.1.0.77-1+cuda11.2\n",
    "# %pip uninstall -y -q tensorflow keras tensorflow-estimator tensorflow-text\n",
    "# %pip install protobuf~=3.20.3\n",
    "# %pip install -q tensorflow_datasets\n",
    "# %pip install -q -U tensorflow-text tensorflow\n",
    "\n",
    "import logging\n",
    "import time\n",
    "\n",
    "import numpy as np\n",
    "import matplotlib.pyplot as plt\n",
    "\n",
    "import tensorflow as tf\n",
    "import tensorflow_text\n",
    "from pickle import load, dump"
   ]
  },
  {
   "cell_type": "code",
   "execution_count": 12,
   "id": "3ab17a65",
   "metadata": {},
   "outputs": [
    {
     "name": "stdout",
     "output_type": "stream",
     "text": [
      "2.10.1\n"
     ]
    }
   ],
   "source": [
    "print(tf.__version__)"
   ]
  },
  {
   "cell_type": "markdown",
   "id": "fc260de9",
   "metadata": {},
   "source": [
    "# Load Tokenizer"
   ]
  },
  {
   "cell_type": "markdown",
   "id": "d015f832",
   "metadata": {},
   "source": [
    "Tokenization is the process of breaking up text, into \"tokens\". Depending on the tokenizer, these tokens can represent sentence-pieces, words, subwords, or characters. To learn more about tokenization, visit this guide.\n",
    "\n",
    "This tutorial uses the tokenizers built in the subword tokenizer tutorial. That tutorial optimizes two text.BertTokenizer objects (one for English, one for Portuguese) for this dataset and exports them in a TensorFlow saved_model format.\n"
   ]
  },
  {
   "cell_type": "code",
   "execution_count": 8,
   "id": "e2f8166d",
   "metadata": {},
   "outputs": [
    {
     "name": "stdout",
     "output_type": "stream",
     "text": [
      "<class 'tensorflow.python.saved_model.load.Loader._recreate_base_user_object.<locals>._UserObject'>\n",
      "<class 'tensorflow.python.saved_model.load.Loader._recreate_base_user_object.<locals>._UserObject'>\n"
     ]
    }
   ],
   "source": [
    "# if 0:\n",
    "#   model_name = 'ted_hrlr_translate_pt_en_converter'\n",
    "#   tf.keras.utils.get_file(\n",
    "#       f'{model_name}.zip',\n",
    "#       f'https://storage.googleapis.com/download.tensorflow.org/models/{model_name}.zip',\n",
    "#       cache_dir='.', cache_subdir='', extract=True\n",
    "#   )\n",
    "#   tokenizers = tf.saved_model.load(model_name)\n",
    "model_name = './metadata/tokenizer_deu_eng'\n",
    "tokenizers = tf.saved_model.load(model_name)\n",
    "\n",
    "print( type(tokenizers) )\n",
    "print( type(tokenizers.eng) )"
   ]
  },
  {
   "cell_type": "code",
   "execution_count": 11,
   "id": "634652cc",
   "metadata": {},
   "outputs": [
    {
     "name": "stdout",
     "output_type": "stream",
     "text": [
      "<tf.RaggedTensor [[2, 1871, 513, 116, 943, 2433, 1185, 4593, 4, 3]]>\n",
      "<tf.RaggedTensor [[b'[START]', b'hello', b'ten', b'##s', b'##or', b'##f', b'##l', b'##ow',\n",
      "  b'!', b'[END]']]>\n",
      "tf.Tensor([b'hello tensorflow !'], shape=(1,), dtype=string)\n",
      "hello tensorflow !\n"
     ]
    }
   ],
   "source": [
    "en_examples = ['Hello TensorFlow!']\n",
    "\n",
    "tokens = tokenizers.eng.tokenize(en_examples)\n",
    "print(tokens)\n",
    "texted_tokens = tokenizers.eng.lookup(tokens)\n",
    "print(texted_tokens)\n",
    "encoded = tokenizers.eng.detokenize(tokens)\n",
    "print(encoded)\n",
    "print(encoded.numpy()[0].decode('utf-8'))"
   ]
  },
  {
   "cell_type": "markdown",
   "id": "acaaf4ec",
   "metadata": {},
   "source": [
    "# Load dataset"
   ]
  },
  {
   "cell_type": "code",
   "execution_count": 15,
   "id": "dbd06500",
   "metadata": {},
   "outputs": [
    {
     "name": "stdout",
     "output_type": "stream",
     "text": [
      "Tom zahlt ein Bußgeld.\n",
      "b'Tom is paying a fine.'\n",
      "\n",
      "\n",
      "Unter dem Bett ist eine Katze.\n",
      "b'There is a cat under the bed.'\n",
      "\n",
      "\n"
     ]
    }
   ],
   "source": [
    "filename = '../data/deu-eng-train.pkl'\n",
    "with open( filename, 'rb') as file:\n",
    "    train_data = load(file)\n",
    "for i, pair in enumerate(train_data):\n",
    "  if i == 2: break\n",
    "  print(pair[0].decode('utf-8'))\n",
    "  print(pair[1])\n",
    "  print('\\n')    \n",
    "\n",
    "train_data2 = np.array(train_data)\n",
    "trainX = train_data2[:, 0]\n",
    "trainY = train_data2[:, 1]\n",
    "train_dataset = tf.data.Dataset.from_tensor_slices((trainX, trainY))\n",
    "\n",
    "filename = '../data/deu-eng-val.pkl'\n",
    "with open( filename, 'rb') as file:\n",
    "    val_data = load(file)\n",
    "val_data2 = np.array(val_data)\n",
    "valX = val_data2[:, 0]\n",
    "valY = val_data2[:, 1]\n",
    "val_dataset = tf.data.Dataset.from_tensor_slices((valX, valY))"
   ]
  },
  {
   "cell_type": "markdown",
   "id": "368e31cc",
   "metadata": {},
   "source": [
    "# Tokenize Dataset Prepare Batch Dataset"
   ]
  },
  {
   "cell_type": "code",
   "execution_count": 16,
   "id": "54c53138",
   "metadata": {},
   "outputs": [],
   "source": [
    "MAX_TOKENS=128\n",
    "BUFFER_SIZE = 20000\n",
    "BATCH_SIZE = 32"
   ]
  },
  {
   "cell_type": "code",
   "execution_count": 18,
   "id": "a803fb5e",
   "metadata": {},
   "outputs": [],
   "source": [
    "def prepare_batch(deu, eng):\n",
    "    deu = tokenizers.deu.tokenize(deu)      # Output is ragged.\n",
    "    deu = deu[:, :MAX_TOKENS]    # Trim to MAX_TOKENS.\n",
    "    deu = deu.to_tensor()  # Convert to 0-padded dense Tensor\n",
    "\n",
    "    eng = tokenizers.eng.tokenize(eng)\n",
    "    eng = eng[:, :(MAX_TOKENS+1)]\n",
    "    eng_inputs = eng[:, :-1].to_tensor()  # Drop the [END] tokens\n",
    "    eng_labels = eng[:, 1:].to_tensor()   # Drop the [START] tokens\n",
    "\n",
    "    return (deu, eng_inputs), eng_labels\n",
    "\n",
    "def make_batches(ds):\n",
    "  return (\n",
    "      ds\n",
    "      .shuffle(BUFFER_SIZE)\n",
    "      .batch(BATCH_SIZE)\n",
    "      .map(prepare_batch, tf.data.AUTOTUNE)\n",
    "      .prefetch(buffer_size=tf.data.AUTOTUNE))\n",
    "\n",
    "train_batches = make_batches(train_dataset)\n",
    "val_batches = make_batches(val_dataset)"
   ]
  },
  {
   "cell_type": "code",
   "execution_count": 20,
   "id": "6e1dfb8f",
   "metadata": {},
   "outputs": [
    {
     "name": "stdout",
     "output_type": "stream",
     "text": [
      "(32, 40)\n",
      "(32, 26)\n",
      "(32, 26)\n",
      "tf.Tensor([  2  64 974  95  65  75 245  68  14   0], shape=(10,), dtype=int64)\n",
      "tf.Tensor([ 64 974  95  65  75 245  68  14   3   0], shape=(10,), dtype=int64)\n"
     ]
    }
   ],
   "source": [
    "\"\"\"It appears that train_batches.take(1) will return shuffled batches. So the results differ.\"\"\"\n",
    "for (deu, eng), eng_labels in train_batches.take(1):\n",
    "  break\n",
    "\n",
    "print(deu.shape)\n",
    "print(eng.shape)\n",
    "print(eng_labels.shape)\n",
    "print(eng[0][:10])\n",
    "print(eng_labels[0][:10])"
   ]
  },
  {
   "cell_type": "markdown",
   "id": "55c21f61",
   "metadata": {},
   "source": [
    "# Position Encoding"
   ]
  },
  {
   "cell_type": "code",
   "execution_count": 23,
   "id": "fe476c23",
   "metadata": {},
   "outputs": [
    {
     "name": "stdout",
     "output_type": "stream",
     "text": [
      "(2048, 512)\n",
      "(32, 40, 512)\n",
      "(32, 26, 512)\n"
     ]
    }
   ],
   "source": [
    "def positional_encoding(length, depth):\n",
    "  depth = depth/2\n",
    "\n",
    "  positions = np.arange(length)[:, np.newaxis]     # (seq, 1)\n",
    "  depths = np.arange(depth)[np.newaxis, :]/depth   # (1, depth)\n",
    "\n",
    "  angle_rates = 1 / (10000**depths)         # (1, depth)\n",
    "  angle_rads = positions * angle_rates      # (pos, depth)\n",
    "\n",
    "  pos_encoding = np.concatenate(\n",
    "      [np.sin(angle_rads), np.cos(angle_rads)],\n",
    "      axis=-1)\n",
    "\n",
    "  return tf.cast(pos_encoding, dtype=tf.float32)\n",
    "\n",
    "pos_encoding = positional_encoding(length=2048, depth=512)\n",
    "\n",
    "# Check the shape.\n",
    "print(pos_encoding.shape)\n",
    "\n",
    "# Plot the dimensions.\n",
    "# plt.pcolormesh(pos_encoding.numpy().T, cmap='RdBu')\n",
    "# plt.ylabel('Depth')\n",
    "# plt.xlabel('Position')\n",
    "# plt.colorbar()\n",
    "# plt.show()\n",
    "\n",
    "# pos_encoding/=tf.norm(pos_encoding, axis=1, keepdims=True)\n",
    "# p = pos_encoding[1000]\n",
    "# dots = tf.einsum('pd,d -> p', pos_encoding, p)\n",
    "# plt.subplot(2,1,1)\n",
    "# plt.plot(dots)\n",
    "# plt.ylim([0,1])\n",
    "# plt.plot([950, 950, float('nan'), 1050, 1050],\n",
    "#          [0,1,float('nan'),0,1], color='k', label='Zoom')\n",
    "# plt.legend()\n",
    "# plt.subplot(2,1,2)\n",
    "# plt.plot(dots)\n",
    "# plt.xlim([950, 1050])\n",
    "# plt.ylim([0,1])\n",
    "\n",
    "class PositionalEmbedding(tf.keras.layers.Layer):\n",
    "  def __init__(self, vocab_size, d_model):\n",
    "    super().__init__()\n",
    "    self.d_model = d_model\n",
    "    self.embedding = tf.keras.layers.Embedding(vocab_size, d_model, mask_zero=True)\n",
    "    self.pos_encoding = positional_encoding(length=2048, depth=d_model)\n",
    "\n",
    "  def compute_mask(self, *args, **kwargs):\n",
    "    return self.embedding.compute_mask(*args, **kwargs)\n",
    "\n",
    "  def call(self, x):\n",
    "    length = tf.shape(x)[1]\n",
    "    x = self.embedding(x)\n",
    "    # This factor sets the relative scale of the embedding and positonal_encoding.\n",
    "    x *= tf.math.sqrt(tf.cast(self.d_model, tf.float32))\n",
    "    x = x + self.pos_encoding[tf.newaxis, :length, :]\n",
    "    return x\n",
    "\n",
    "embed_deu = PositionalEmbedding(vocab_size=tokenizers.deu.get_vocab_size(), d_model=512)\n",
    "embed_eng = PositionalEmbedding(vocab_size=tokenizers.eng.get_vocab_size(), d_model=512)\n",
    "\n",
    "deu_emb = embed_deu(deu)\n",
    "eng_emb = embed_eng(eng)\n",
    "\n",
    "print(deu_emb.shape)\n",
    "print(eng_emb.shape)\n",
    "\n",
    "# eng_emb._keras_mask\n"
   ]
  },
  {
   "cell_type": "markdown",
   "id": "771c988e",
   "metadata": {},
   "source": [
    "# Attention"
   ]
  },
  {
   "cell_type": "markdown",
   "id": "724e2945",
   "metadata": {},
   "source": [
    "RNNs and CNNs have their limitations.\n",
    "\n",
    "* The RNN allows information to flow all the way across the sequence, but it passes through many processing steps to get there (limiting gradient flow). These RNN steps have to be run sequentially and so the RNN is less able to take advantage of modern parallel devices.\n",
    "* In the CNN each location can be processed in parallel, but it only provides a limited receptive field. The receptive field only grows linearly with the number of CNN layers, You need to stack a number of Convolution layers to transmit information across the sequence (Wavenet reduces this problem by using dilated convolutions).\n"
   ]
  },
  {
   "cell_type": "code",
   "execution_count": 29,
   "id": "b27e309f",
   "metadata": {},
   "outputs": [
    {
     "name": "stdout",
     "output_type": "stream",
     "text": [
      "(32, 40, 512)\n",
      "(32, 26, 512)\n",
      "(32, 26, 512)\n",
      "(32, 40, 512)\n",
      "(32, 40, 512)\n",
      "(32, 26, 512)\n",
      "(32, 26, 512)\n",
      "(32, 3, 512)\n"
     ]
    },
    {
     "data": {
      "text/plain": [
       "0.1343607"
      ]
     },
     "execution_count": 29,
     "metadata": {},
     "output_type": "execute_result"
    }
   ],
   "source": [
    "\"\"\"## Base Attention\"\"\"\n",
    "class BaseAttention(tf.keras.layers.Layer):\n",
    "  def __init__(self, **kwargs):\n",
    "    super().__init__()\n",
    "    self.mha = tf.keras.layers.MultiHeadAttention(**kwargs)\n",
    "    self.layernorm = tf.keras.layers.LayerNormalization()\n",
    "    self.add = tf.keras.layers.Add()\n",
    "\n",
    "\"\"\"## Cross Attention\"\"\"\n",
    "\n",
    "class CrossAttention(BaseAttention):\n",
    "  def call(self, x, context):\n",
    "    attn_output, attn_scores = self.mha(\n",
    "                                        query=x,\n",
    "                                        key=context,\n",
    "                                        value=context,\n",
    "                                        return_attention_scores=True)\n",
    "\n",
    "    # Cache the attention scores for plotting later.\n",
    "    self.last_attn_scores = attn_scores\n",
    "\n",
    "    x = self.add([x, attn_output])\n",
    "    x = self.layernorm(x)\n",
    "\n",
    "    return x\n",
    "\n",
    "\"\"\"The output length of CrossAttention is the length of the query sequence, and not the length of the context key/value sequence.\"\"\"\n",
    "\n",
    "sample_ca = CrossAttention(num_heads=2, key_dim=512)\n",
    "\n",
    "print(deu_emb.shape)\n",
    "print(eng_emb.shape)\n",
    "print(sample_ca(eng_emb, deu_emb).shape)\n",
    "\n",
    "\"\"\"## Global Self Attention\"\"\"\n",
    "\n",
    "class GlobalSelfAttention(BaseAttention):\n",
    "  def call(self, x):\n",
    "    attn_output = self.mha(\n",
    "                          query=x,\n",
    "                          value=x,\n",
    "                          key=x)\n",
    "    x = self.add([x, attn_output])\n",
    "    x = self.layernorm(x)\n",
    "    return x\n",
    "\n",
    "sample_gsa = GlobalSelfAttention(num_heads=2, key_dim=512)\n",
    "\n",
    "print(deu_emb.shape)\n",
    "print(sample_gsa(deu_emb).shape)\n",
    "\n",
    "\"\"\"# Causal Attention\n",
    "\n",
    "Like the text generation tutorial, and the NMT with attention tutorial, Transformers are an \"autoregressive\" model: They generate the text one token at a time and feed that output back to the input. To make this efficient, these models ensure that the output for each sequence element only depends on the previous sequence elements; the models are \"causal\".\n",
    "\"\"\"\n",
    "\n",
    "class CausalSelfAttention(BaseAttention):\n",
    "  def call(self, x):\n",
    "    attn_output = self.mha(\n",
    "                          query=x,\n",
    "                          value=x,\n",
    "                          key=x,\n",
    "                          use_causal_mask = True)\n",
    "    x = self.add([x, attn_output])\n",
    "    x = self.layernorm(x)\n",
    "    return x\n",
    "\n",
    "sample_csa = CausalSelfAttention(num_heads=2, key_dim=512)\n",
    "\n",
    "print(eng_emb.shape)\n",
    "print(sample_csa(eng_emb).shape)\n",
    "\n",
    "\"\"\"This seems to be an important check. Can do this check in the Mastery version\"\"\"\n",
    "\n",
    "out1 = sample_csa(embed_eng(eng[:, :3]))\n",
    "out2 = sample_csa(embed_eng(eng))[:, :3]\n",
    "\n",
    "print(out1.shape)\n",
    "tf.reduce_max(abs(out1 - out2)).numpy()\n",
    "\n",
    "out1 = sample_gsa(embed_eng(eng[:, :3]))\n",
    "out2 = sample_gsa(embed_eng(eng))[:, :3]\n",
    "\n",
    "tf.reduce_max(abs(out1 - out2)).numpy()\n"
   ]
  },
  {
   "cell_type": "markdown",
   "id": "56eb344b",
   "metadata": {},
   "source": [
    "# Feedforward Network"
   ]
  },
  {
   "cell_type": "code",
   "execution_count": 31,
   "id": "a451a36f",
   "metadata": {},
   "outputs": [
    {
     "name": "stdout",
     "output_type": "stream",
     "text": [
      "(32, 26, 512)\n",
      "(32, 26, 512)\n"
     ]
    }
   ],
   "source": [
    "class FeedForward(tf.keras.layers.Layer):\n",
    "  def __init__(self, d_model, dff, dropout_rate=0.1):\n",
    "    super().__init__()\n",
    "    self.seq = tf.keras.Sequential([\n",
    "      tf.keras.layers.Dense(dff, activation='relu'),\n",
    "      tf.keras.layers.Dense(d_model),\n",
    "      tf.keras.layers.Dropout(dropout_rate)\n",
    "    ])\n",
    "    self.add = tf.keras.layers.Add()\n",
    "    self.layer_norm = tf.keras.layers.LayerNormalization()\n",
    "\n",
    "  def call(self, x):\n",
    "    x = self.add([x, self.seq(x)])\n",
    "    x = self.layer_norm(x)\n",
    "    return x\n",
    "\n",
    "sample_ffn = FeedForward(512, 2048)\n",
    "\n",
    "print(eng_emb.shape)\n",
    "print(sample_ffn(eng_emb).shape)\n"
   ]
  },
  {
   "cell_type": "markdown",
   "id": "b314fc74",
   "metadata": {},
   "source": [
    "# Encoder"
   ]
  },
  {
   "cell_type": "code",
   "execution_count": 32,
   "id": "64697a12",
   "metadata": {},
   "outputs": [
    {
     "name": "stdout",
     "output_type": "stream",
     "text": [
      "(32, 40, 512)\n",
      "(32, 40, 512)\n",
      "(32, 40)\n",
      "(32, 40, 512)\n"
     ]
    }
   ],
   "source": [
    "class EncoderLayer(tf.keras.layers.Layer):\n",
    "  def __init__(self,*, d_model, num_heads, dff, dropout_rate=0.1):\n",
    "    super().__init__()\n",
    "\n",
    "    self.self_attention = GlobalSelfAttention(\n",
    "        num_heads=num_heads,\n",
    "        key_dim=d_model,\n",
    "        dropout=dropout_rate)\n",
    "\n",
    "    self.ffn = FeedForward(d_model, dff)\n",
    "\n",
    "  def call(self, x):\n",
    "    x = self.self_attention(x)\n",
    "    x = self.ffn(x)\n",
    "    return x\n",
    "\n",
    "sample_encoder_layer = EncoderLayer(d_model=512, num_heads=8, dff=2048)\n",
    "\n",
    "print(deu_emb.shape)\n",
    "print(sample_encoder_layer(deu_emb).shape)\n",
    "\n",
    "class Encoder(tf.keras.layers.Layer):\n",
    "  def __init__(self, *, num_layers, d_model, num_heads,\n",
    "               dff, vocab_size, dropout_rate=0.1):\n",
    "    super().__init__()\n",
    "\n",
    "    self.d_model = d_model\n",
    "    self.num_layers = num_layers\n",
    "\n",
    "    self.pos_embedding = PositionalEmbedding(\n",
    "        vocab_size=vocab_size, d_model=d_model)\n",
    "\n",
    "    self.enc_layers = [\n",
    "        EncoderLayer(d_model=d_model,\n",
    "                     num_heads=num_heads,\n",
    "                     dff=dff,\n",
    "                     dropout_rate=dropout_rate)\n",
    "        for _ in range(num_layers)]\n",
    "    self.dropout = tf.keras.layers.Dropout(dropout_rate)\n",
    "\n",
    "  def call(self, x):\n",
    "    # `x` is token-IDs shape: (batch, seq_len)\n",
    "    x = self.pos_embedding(x)  # Shape `(batch_size, seq_len, d_model)`.\n",
    "\n",
    "    # Add dropout.\n",
    "    x = self.dropout(x)\n",
    "\n",
    "    for i in range(self.num_layers):\n",
    "      x = self.enc_layers[i](x)\n",
    "\n",
    "    return x  # Shape `(batch_size, seq_len, d_model)`.\n",
    "\n",
    "# Instantiate the encoder.\n",
    "sample_encoder = Encoder(num_layers=4,\n",
    "                         d_model=512,\n",
    "                         num_heads=8,\n",
    "                         dff=2048,\n",
    "                         vocab_size=8500)\n",
    "\n",
    "sample_encoder_output = sample_encoder(deu, training=False)\n",
    "\n",
    "# Print the shape.\n",
    "print(deu.shape)\n",
    "print(sample_encoder_output.shape)  # Shape `(batch_size, input_seq_len, d_model)`."
   ]
  },
  {
   "cell_type": "markdown",
   "id": "817d87e3",
   "metadata": {},
   "source": [
    "# Decoder"
   ]
  },
  {
   "cell_type": "code",
   "execution_count": 34,
   "id": "336fffb9",
   "metadata": {},
   "outputs": [
    {
     "name": "stdout",
     "output_type": "stream",
     "text": [
      "(32, 26, 512)\n",
      "(32, 40, 512)\n",
      "(32, 26, 512)\n",
      "(32, 26)\n",
      "(32, 40, 512)\n",
      "(32, 26, 512)\n"
     ]
    },
    {
     "data": {
      "text/plain": [
       "TensorShape([32, 8, 26, 40])"
      ]
     },
     "execution_count": 34,
     "metadata": {},
     "output_type": "execute_result"
    }
   ],
   "source": [
    "class DecoderLayer(tf.keras.layers.Layer):\n",
    "  def __init__(self,\n",
    "               *,\n",
    "               d_model,\n",
    "               num_heads,\n",
    "               dff,\n",
    "               dropout_rate=0.1):\n",
    "    super(DecoderLayer, self).__init__()\n",
    "\n",
    "    self.causal_self_attention = CausalSelfAttention(\n",
    "        num_heads=num_heads,\n",
    "        key_dim=d_model,\n",
    "        dropout=dropout_rate)\n",
    "\n",
    "    self.cross_attention = CrossAttention(\n",
    "        num_heads=num_heads,\n",
    "        key_dim=d_model,\n",
    "        dropout=dropout_rate)\n",
    "\n",
    "    self.ffn = FeedForward(d_model, dff)\n",
    "\n",
    "  def call(self, x, context):\n",
    "    x = self.causal_self_attention(x=x)\n",
    "    x = self.cross_attention(x=x, context=context)\n",
    "\n",
    "    # Cache the last attention scores for plotting later\n",
    "    self.last_attn_scores = self.cross_attention.last_attn_scores\n",
    "\n",
    "    x = self.ffn(x)  # Shape `(batch_size, seq_len, d_model)`.\n",
    "    return x\n",
    "\n",
    "sample_decoder_layer = DecoderLayer(d_model=512, num_heads=8, dff=2048)\n",
    "\n",
    "sample_decoder_layer_output = sample_decoder_layer(\n",
    "    x=eng_emb, context=deu_emb)\n",
    "\n",
    "print(eng_emb.shape)\n",
    "print(deu_emb.shape)\n",
    "print(sample_decoder_layer_output.shape)  # `(batch_size, seq_len, d_model)`\n",
    "\n",
    "class Decoder(tf.keras.layers.Layer):\n",
    "  def __init__(self, *, num_layers, d_model, num_heads, dff, vocab_size,\n",
    "               dropout_rate=0.1):\n",
    "    super(Decoder, self).__init__()\n",
    "\n",
    "    self.d_model = d_model\n",
    "    self.num_layers = num_layers\n",
    "\n",
    "    self.pos_embedding = PositionalEmbedding(vocab_size=vocab_size,\n",
    "                                             d_model=d_model)\n",
    "    self.dropout = tf.keras.layers.Dropout(dropout_rate)\n",
    "    self.dec_layers = [\n",
    "        DecoderLayer(d_model=d_model, num_heads=num_heads,\n",
    "                     dff=dff, dropout_rate=dropout_rate)\n",
    "        for _ in range(num_layers)]\n",
    "\n",
    "    self.last_attn_scores = None\n",
    "\n",
    "  def call(self, x, context):\n",
    "    # `x` is token-IDs shape (batch, target_seq_len)\n",
    "    x = self.pos_embedding(x)  # (batch_size, target_seq_len, d_model)\n",
    "\n",
    "    x = self.dropout(x)\n",
    "\n",
    "    for i in range(self.num_layers):\n",
    "      x  = self.dec_layers[i](x, context)\n",
    "\n",
    "    self.last_attn_scores = self.dec_layers[-1].last_attn_scores\n",
    "\n",
    "    # The shape of x is (batch_size, target_seq_len, d_model).\n",
    "    return x\n",
    "\n",
    "# Instantiate the decoder.\n",
    "sample_decoder = Decoder(num_layers=4,\n",
    "                         d_model=512,\n",
    "                         num_heads=8,\n",
    "                         dff=2048,\n",
    "                         vocab_size=8000)\n",
    "\n",
    "output = sample_decoder(\n",
    "    x=eng,\n",
    "    context=deu_emb)\n",
    "\n",
    "# Print the shapes.\n",
    "print(eng.shape)\n",
    "print(deu_emb.shape)\n",
    "print(output.shape)\n",
    "\n",
    "sample_decoder.last_attn_scores.shape"
   ]
  },
  {
   "cell_type": "markdown",
   "id": "2ae6498b",
   "metadata": {},
   "source": [
    "# Transformer"
   ]
  },
  {
   "cell_type": "code",
   "execution_count": 36,
   "id": "c5d624fe",
   "metadata": {},
   "outputs": [],
   "source": [
    "class Transformer(tf.keras.Model):\n",
    "  def __init__(self, *, num_layers, d_model, num_heads, dff,\n",
    "               input_vocab_size, target_vocab_size, dropout_rate=0.1):\n",
    "    super().__init__()\n",
    "    self.encoder = Encoder(num_layers=num_layers, d_model=d_model,\n",
    "                           num_heads=num_heads, dff=dff,\n",
    "                           vocab_size=input_vocab_size,\n",
    "                           dropout_rate=dropout_rate)\n",
    "\n",
    "    self.decoder = Decoder(num_layers=num_layers, d_model=d_model,\n",
    "                           num_heads=num_heads, dff=dff,\n",
    "                           vocab_size=target_vocab_size,\n",
    "                           dropout_rate=dropout_rate)\n",
    "\n",
    "    self.final_layer = tf.keras.layers.Dense(target_vocab_size)\n",
    "\n",
    "  def call(self, inputs):\n",
    "    # To use a Keras model with `.fit` you must pass all your inputs in the\n",
    "    # first argument.\n",
    "    context, x  = inputs\n",
    "\n",
    "    context = self.encoder(context)  # (batch_size, context_len, d_model)\n",
    "\n",
    "    x = self.decoder(x, context)  # (batch_size, target_len, d_model)\n",
    "\n",
    "    # Final linear layer output.\n",
    "    logits = self.final_layer(x)  # (batch_size, target_len, target_vocab_size)\n",
    "\n",
    "    try:\n",
    "      # Drop the keras mask, so it doesn't scale the losses/metrics.\n",
    "      # b/250038731\n",
    "      del logits._keras_mask\n",
    "    except AttributeError:\n",
    "      pass\n",
    "\n",
    "    # Return the final output and the attention weights.\n",
    "    return logits"
   ]
  },
  {
   "cell_type": "code",
   "execution_count": 38,
   "id": "91e61216",
   "metadata": {},
   "outputs": [],
   "source": [
    "num_layers = 4\n",
    "d_model = 128\n",
    "dff = 512\n",
    "num_heads = 8\n",
    "dropout_rate = 0.1"
   ]
  },
  {
   "cell_type": "markdown",
   "id": "99c0ea9c",
   "metadata": {},
   "source": [
    "# Test\n"
   ]
  },
  {
   "cell_type": "code",
   "execution_count": 40,
   "id": "b7662bfc",
   "metadata": {},
   "outputs": [
    {
     "name": "stdout",
     "output_type": "stream",
     "text": [
      "(32, 26)\n",
      "(32, 40)\n",
      "(32, 26, 5518)\n"
     ]
    }
   ],
   "source": [
    "transformer = Transformer(\n",
    "    num_layers=num_layers,\n",
    "    d_model=d_model,\n",
    "    num_heads=num_heads,\n",
    "    dff=dff,\n",
    "    input_vocab_size=tokenizers.deu.get_vocab_size().numpy(),\n",
    "    target_vocab_size=tokenizers.eng.get_vocab_size().numpy(),\n",
    "    dropout_rate=dropout_rate)\n",
    "\n",
    "output = transformer((deu, eng))\n",
    "\n",
    "print(eng.shape)\n",
    "print(deu.shape)\n",
    "print(output.shape)"
   ]
  },
  {
   "cell_type": "markdown",
   "id": "ee5f14ec",
   "metadata": {},
   "source": [
    "**See the head actually multiplies the input matrix. Because it acutally duplicates the matrix. But in Mastery it reshapes the input matrix which is wierd.** <br>\n",
    "**In the Mastery earlier introduction to multi-head attention it say it duplicates the matricies by number of header does the same scaled dot product attention. And then concate the #heads and go through a dense to combine them.** <br>"
   ]
  },
  {
   "cell_type": "code",
   "execution_count": 42,
   "id": "815625b4",
   "metadata": {},
   "outputs": [
    {
     "name": "stdout",
     "output_type": "stream",
     "text": [
      "(32, 8, 26, 40)\n"
     ]
    }
   ],
   "source": [
    "attn_scores = transformer.decoder.dec_layers[-1].last_attn_scores\n",
    "print(attn_scores.shape)  # (batch, heads, target_seq, input_seq)"
   ]
  },
  {
   "cell_type": "code",
   "execution_count": 43,
   "id": "0b2f8eb1",
   "metadata": {},
   "outputs": [
    {
     "name": "stdout",
     "output_type": "stream",
     "text": [
      "Model: \"transformer\"\n",
      "_________________________________________________________________\n",
      " Layer (type)                Output Shape              Param #   \n",
      "=================================================================\n",
      " encoder_1 (Encoder)         multiple                  3653888   \n",
      "                                                                 \n",
      " decoder_2 (Decoder)         multiple                  5456128   \n",
      "                                                                 \n",
      " dense_50 (Dense)            multiple                  711822    \n",
      "                                                                 \n",
      "=================================================================\n",
      "Total params: 9,821,838\n",
      "Trainable params: 9,821,838\n",
      "Non-trainable params: 0\n",
      "_________________________________________________________________\n"
     ]
    }
   ],
   "source": [
    "transformer.summary()"
   ]
  },
  {
   "cell_type": "markdown",
   "id": "28180d66",
   "metadata": {},
   "source": [
    "# Optimizer - Customized Scheduler"
   ]
  },
  {
   "cell_type": "code",
   "execution_count": 44,
   "id": "e3b15a7a",
   "metadata": {},
   "outputs": [
    {
     "data": {
      "text/plain": [
       "Text(0.5, 0, 'Train Step')"
      ]
     },
     "execution_count": 44,
     "metadata": {},
     "output_type": "execute_result"
    },
    {
     "data": {
      "image/png": "[encoded data removed]",
      "text/plain": [
       "<Figure size 640x480 with 1 Axes>"
      ]
     },
     "metadata": {},
     "output_type": "display_data"
    }
   ],
   "source": [
    "class CustomSchedule(tf.keras.optimizers.schedules.LearningRateSchedule):\n",
    "  def __init__(self, d_model, warmup_steps=4000):\n",
    "    super().__init__()\n",
    "\n",
    "    self.d_model = d_model\n",
    "    self.d_model = tf.cast(self.d_model, tf.float32)\n",
    "\n",
    "    self.warmup_steps = warmup_steps\n",
    "\n",
    "  def __call__(self, step):\n",
    "    step = tf.cast(step, dtype=tf.float32)\n",
    "    arg1 = tf.math.rsqrt(step)\n",
    "    arg2 = step * (self.warmup_steps ** -1.5)\n",
    "\n",
    "    return tf.math.rsqrt(self.d_model) * tf.math.minimum(arg1, arg2)\n",
    "\n",
    "learning_rate = CustomSchedule(d_model)\n",
    "\n",
    "optimizer = tf.keras.optimizers.Adam(learning_rate, beta_1=0.9, beta_2=0.98,\n",
    "                                     epsilon=1e-9)\n",
    "\n",
    "plt.plot(learning_rate(tf.range(40000, dtype=tf.float32)))\n",
    "plt.ylabel('Learning Rate')\n",
    "plt.xlabel('Train Step')"
   ]
  },
  {
   "cell_type": "markdown",
   "id": "acdc41d0",
   "metadata": {},
   "source": [
    "# Loss and Metrics"
   ]
  },
  {
   "cell_type": "code",
   "execution_count": 46,
   "id": "5263a52f",
   "metadata": {},
   "outputs": [],
   "source": [
    "def masked_loss(label, pred):\n",
    "  mask = label != 0\n",
    "  loss_object = tf.keras.losses.SparseCategoricalCrossentropy(\n",
    "    from_logits=True, reduction='none')\n",
    "  loss = loss_object(label, pred)\n",
    "\n",
    "  mask = tf.cast(mask, dtype=loss.dtype)\n",
    "  loss *= mask\n",
    "\n",
    "  loss = tf.reduce_sum(loss)/tf.reduce_sum(mask)\n",
    "  return loss\n",
    "\n",
    "\n",
    "def masked_accuracy(label, pred):\n",
    "  pred = tf.argmax(pred, axis=2)\n",
    "  label = tf.cast(label, pred.dtype)\n",
    "  match = label == pred\n",
    "\n",
    "  mask = label != 0\n",
    "\n",
    "  match = match & mask\n",
    "\n",
    "  match = tf.cast(match, dtype=tf.float32)\n",
    "  mask = tf.cast(mask, dtype=tf.float32)\n",
    "  return tf.reduce_sum(match)/tf.reduce_sum(mask)\n"
   ]
  },
  {
   "cell_type": "markdown",
   "id": "07ae37ef",
   "metadata": {},
   "source": [
    "# Compile and Fit"
   ]
  },
  {
   "cell_type": "code",
   "execution_count": 47,
   "id": "0392f244",
   "metadata": {},
   "outputs": [],
   "source": [
    "transformer.compile(\n",
    "    loss=masked_loss,\n",
    "    optimizer=optimizer,\n",
    "    metrics=[masked_accuracy])"
   ]
  },
  {
   "cell_type": "code",
   "execution_count": null,
   "id": "d61f6425",
   "metadata": {},
   "outputs": [
    {
     "name": "stdout",
     "output_type": "stream",
     "text": [
      "Epoch 1/20\n",
      "6538/6538 [==============================] - 256s 38ms/step - loss: 2.8807 - masked_accuracy: 0.5489 - val_loss: 1.7518 - val_masked_accuracy: 0.6868\n",
      "Epoch 2/20\n",
      "6538/6538 [==============================] - 284s 43ms/step - loss: 1.6256 - masked_accuracy: 0.7045 - val_loss: 1.4188 - val_masked_accuracy: 0.7387\n",
      "Epoch 3/20\n",
      "6538/6538 [==============================] - 266s 41ms/step - loss: 1.3909 - masked_accuracy: 0.7413 - val_loss: 1.2938 - val_masked_accuracy: 0.7597\n",
      "Epoch 4/20\n",
      "6538/6538 [==============================] - 270s 41ms/step - loss: 1.2732 - masked_accuracy: 0.7602 - val_loss: 1.2251 - val_masked_accuracy: 0.7712\n",
      "Epoch 5/20\n",
      "6538/6538 [==============================] - 269s 41ms/step - loss: 1.1965 - masked_accuracy: 0.7733 - val_loss: 1.1778 - val_masked_accuracy: 0.7802\n",
      "Epoch 6/20\n",
      "6538/6538 [==============================] - 270s 41ms/step - loss: 1.1403 - masked_accuracy: 0.7829 - val_loss: 1.1528 - val_masked_accuracy: 0.7847\n",
      "Epoch 7/20\n",
      "6538/6538 [==============================] - 271s 41ms/step - loss: 1.0967 - masked_accuracy: 0.7904 - val_loss: 1.1245 - val_masked_accuracy: 0.7898\n",
      "Epoch 8/20\n",
      "6538/6538 [==============================] - 277s 42ms/step - loss: 1.0621 - masked_accuracy: 0.7966 - val_loss: 1.1092 - val_masked_accuracy: 0.7927\n",
      "Epoch 9/20\n",
      "6538/6538 [==============================] - 273s 42ms/step - loss: 1.0324 - masked_accuracy: 0.8015 - val_loss: 1.0904 - val_masked_accuracy: 0.7968\n",
      "Epoch 10/20\n",
      "6538/6538 [==============================] - 275s 42ms/step - loss: 1.0055 - masked_accuracy: 0.8058 - val_loss: 1.0730 - val_masked_accuracy: 0.7994\n",
      "Epoch 11/20\n",
      "6538/6538 [==============================] - 288s 44ms/step - loss: 0.9820 - masked_accuracy: 0.8098 - val_loss: 1.0719 - val_masked_accuracy: 0.7994\n",
      "Epoch 12/20\n",
      "6538/6538 [==============================] - 281s 43ms/step - loss: 0.9606 - masked_accuracy: 0.8133 - val_loss: 1.0506 - val_masked_accuracy: 0.8036\n",
      "Epoch 13/20\n",
      "2062/6538 [========>.....................] - ETA: 2:57 - loss: 0.9452 - masked_accuracy: 0.8167"
     ]
    }
   ],
   "source": [
    "transformer.fit(train_batches,\n",
    "                epochs=20,\n",
    "                validation_data=val_batches)"
   ]
  },
  {
   "cell_type": "markdown",
   "id": "81687890",
   "metadata": {},
   "source": [
    "# Inference"
   ]
  },
  {
   "cell_type": "code",
   "execution_count": null,
   "id": "b48b7891",
   "metadata": {},
   "outputs": [],
   "source": [
    "class Translator(tf.Module):\n",
    "    def __init__(self, tokenizers, transformer):\n",
    "        self.tokenizers = tokenizers\n",
    "        self.transformer = transformer\n",
    "\n",
    "    def __call__(self, sentence, max_length=MAX_TOKENS):\n",
    "        # The input sentence is Portuguese, hence adding the `[START]` and `[END]` tokens.\n",
    "        assert isinstance(sentence, tf.Tensor)\n",
    "        if len(sentence.shape) == 0:\n",
    "            sentence = sentence[tf.newaxis]\n",
    "\n",
    "        sentence = self.tokenizers.deu.tokenize(sentence).to_tensor()\n",
    "\n",
    "        encoder_input = sentence\n",
    "\n",
    "        # As the output language is English, initialize the output with the\n",
    "        # English `[START]` token.\n",
    "        start_end = self.tokenizers.eng.tokenize([''])[0]\n",
    "        start = start_end[0][tf.newaxis]\n",
    "        end = start_end[1][tf.newaxis]\n",
    "\n",
    "        # `tf.TensorArray` is required here (instead of a Python list), so that the\n",
    "        # dynamic-loop can be traced by `tf.function`.\n",
    "        output_array = tf.TensorArray(dtype=tf.int64, size=0, dynamic_size=True)\n",
    "        output_array = output_array.write(0, start)\n",
    "\n",
    "        for i in tf.range(max_length):\n",
    "            output = tf.transpose(output_array.stack())\n",
    "            predictions = self.transformer([encoder_input, output], training=False)\n",
    "\n",
    "            # Select the last token from the `seq_len` dimension.\n",
    "            predictions = predictions[:, -1:, :]  # Shape `(batch_size, 1, vocab_size)`.\n",
    "\n",
    "            predicted_id = tf.argmax(predictions, axis=-1)\n",
    "\n",
    "            # Concatenate the `predicted_id` to the output which is given to the\n",
    "            # decoder as its input.\n",
    "            output_array = output_array.write(i+1, predicted_id[0])\n",
    "\n",
    "            if predicted_id == end:\n",
    "                break\n",
    "\n",
    "        output = tf.transpose(output_array.stack())\n",
    "        # The output shape is `(1, tokens)`.\n",
    "        text = tokenizers.eng.detokenize(output)[0]  # Shape: `()`.\n",
    "\n",
    "        tokens = tokenizers.eng.lookup(output)[0]\n",
    "\n",
    "        # `tf.function` prevents us from using the attention_weights that were\n",
    "        # calculated on the last iteration of the loop.\n",
    "        # So, recalculate them outside the loop.\n",
    "        self.transformer([encoder_input, output[:,:-1]], training=False)\n",
    "        attention_weights = self.transformer.decoder.last_attn_scores\n",
    "\n",
    "        return text, tokens, attention_weights"
   ]
  },
  {
   "cell_type": "code",
   "execution_count": null,
   "id": "8b6a8a3b",
   "metadata": {},
   "outputs": [],
   "source": [
    "def print_translation(sentence, tokens, ground_truth):\n",
    "    print(f'{\"Input:\":15s}: {sentence}')\n",
    "    print(f'{\"Prediction\":15s}: {tokens.numpy().decode(\"utf-8\")}')\n",
    "    print(f'{\"Ground truth\":15s}: {ground_truth}')"
   ]
  },
  {
   "cell_type": "code",
   "execution_count": null,
   "id": "9d9ad0cb",
   "metadata": {},
   "outputs": [],
   "source": [
    "translator = Translator(tokenizers, transformer)\n",
    "\n",
    "sentence = 'este é um problema que temos que resolver.'\n",
    "ground_truth = 'this is a problem we have to solve .'\n",
    "\n",
    "translated_text, translated_tokens, attention_weights = translator(tf.constant(sentence))\n",
    "print_translation(sentence, translated_text, ground_truth)\n"
   ]
  },
  {
   "cell_type": "markdown",
   "id": "f3c22acd",
   "metadata": {},
   "source": [
    "# Export the model"
   ]
  },
  {
   "cell_type": "code",
   "execution_count": null,
   "id": "113802d5",
   "metadata": {},
   "outputs": [],
   "source": [
    "class ExportTranslator(tf.Module):\n",
    "    def __init__(self, translator):\n",
    "        self.translator = translator\n",
    "\n",
    "    @tf.function(input_signature=[tf.TensorSpec(shape=[], dtype=tf.string)])\n",
    "    def __call__(self, sentence):\n",
    "        (result,\n",
    "        tokens,\n",
    "        attention_weights) = self.translator(sentence, max_length=MAX_TOKENS)\n",
    "\n",
    "        return result, tokens, attention_weights\n",
    "\n",
    "translator = ExportTranslator(translator)\n",
    "tf.saved_model.save(translator, export_dir='./metadata/translator_5')\n",
    "\n",
    "result, _, _ = translator('este é o primeiro livro que eu fiz.')\n",
    "print(result.numpy())\n",
    "\n",
    "\n",
    "reloaded = tf.saved_model.load('./Bootcamp/Tranformer_TF/metadata/translator_5')\n",
    "result, _, _ = reloaded('este é o primeiro livro que eu fiz.')"
   ]
  },
  {
   "cell_type": "markdown",
   "id": "988adcc8",
   "metadata": {},
   "source": [
    "# Attention Plots"
   ]
  },
  {
   "cell_type": "code",
   "execution_count": null,
   "id": "3fcee92e",
   "metadata": {},
   "outputs": [],
   "source": [
    "def plot_attention_head(in_tokens, translated_tokens, attention):\n",
    "  # The model didn't generate `<START>` in the output. Skip it.\n",
    "  translated_tokens = translated_tokens[1:]\n",
    "\n",
    "  ax = plt.gca()\n",
    "  ax.matshow(attention)\n",
    "  ax.set_xticks(range(len(in_tokens)))\n",
    "  ax.set_yticks(range(len(translated_tokens)))\n",
    "\n",
    "  labels = [label.decode('utf-8') for label in in_tokens.numpy()]\n",
    "  ax.set_xticklabels(\n",
    "      labels, rotation=90)\n",
    "\n",
    "  labels = [label.decode('utf-8') for label in translated_tokens.numpy()]\n",
    "  ax.set_yticklabels(labels)\n",
    "#   plt.show()"
   ]
  },
  {
   "cell_type": "code",
   "execution_count": null,
   "id": "fca64129",
   "metadata": {},
   "outputs": [],
   "source": [
    "head = 0\n",
    "# Shape: `(batch=1, num_heads, seq_len_q, seq_len_k)`.\n",
    "attention_heads = tf.squeeze(attention_weights, 0)\n",
    "attention = attention_heads[head]\n",
    "attention.shape\n",
    "\n",
    "\n",
    "in_tokens = tf.convert_to_tensor([sentence])\n",
    "in_tokens = tokenizers.deu.tokenize(in_tokens).to_tensor()\n",
    "in_tokens = tokenizers.deu.lookup(in_tokens)[0]\n",
    "print(in_tokens)\n",
    "\n",
    "print(translated_tokens)\n",
    "\n",
    "\n",
    "plot_attention_head(in_tokens, translated_tokens, attention)"
   ]
  },
  {
   "cell_type": "code",
   "execution_count": null,
   "id": "905b3472",
   "metadata": {},
   "outputs": [],
   "source": [
    "def plot_attention_weights(sentence, translated_tokens, attention_heads):\n",
    "  in_tokens = tf.convert_to_tensor([sentence])\n",
    "  in_tokens = tokenizers.deu.tokenize(in_tokens).to_tensor()\n",
    "  in_tokens = tokenizers.deu.lookup(in_tokens)[0]\n",
    "\n",
    "  fig = plt.figure(figsize=(16, 8))\n",
    "\n",
    "  for h, head in enumerate(attention_heads):\n",
    "    ax = fig.add_subplot(2, 4, h+1)\n",
    "\n",
    "    plot_attention_head(in_tokens, translated_tokens, head)\n",
    "\n",
    "    ax.set_xlabel(f'Head {h+1}')\n",
    "\n",
    "  plt.tight_layout()\n",
    "  plt.show()"
   ]
  },
  {
   "cell_type": "code",
   "execution_count": null,
   "id": "cc398dd3",
   "metadata": {},
   "outputs": [],
   "source": [
    "plot_attention_weights(sentence,\n",
    "                       translated_tokens,\n",
    "                       attention_weights[0])\n",
    "\n",
    "\n",
    "sentence = 'Eu li sobre triceratops na enciclopédia.'\n",
    "ground_truth = 'I read about triceratops in the encyclopedia.'\n",
    "\n",
    "translated_text, translated_tokens, attention_weights = translator(\n",
    "    tf.constant(sentence))\n",
    "print_translation(sentence, translated_text, ground_truth)\n",
    "\n",
    "plot_attention_weights(sentence, translated_tokens, attention_weights[0])\n"
   ]
  }
 ],
 "metadata": {
  "kernelspec": {
   "display_name": "Python 3 (ipykernel)",
   "language": "python",
   "name": "python3"
  },
  "language_info": {
   "codemirror_mode": {
    "name": "ipython",
    "version": 3
   },
   "file_extension": ".py",
   "mimetype": "text/x-python",
   "name": "python",
   "nbconvert_exporter": "python",
   "pygments_lexer": "ipython3",
   "version": "3.10.2"
  }
 },
 "nbformat": 4,
 "nbformat_minor": 5
}
