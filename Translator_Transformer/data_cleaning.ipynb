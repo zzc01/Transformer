{
 "cells": [
  {
   "cell_type": "markdown",
   "metadata": {
    "id": "bhtZAKYjKmQa"
   },
   "source": [
    "# Data Cleaning"
   ]
  },
  {
   "cell_type": "markdown",
   "metadata": {
    "id": "sw6cTrwKLtWB"
   },
   "source": [
    "## Library"
   ]
  },
  {
   "cell_type": "code",
   "execution_count": 22,
   "metadata": {
    "id": "G6_SGjB5fARd"
   },
   "outputs": [],
   "source": [
    "# import pathlib\n",
    "# import tensorflow as tf\n",
    "# import tensorflow_text as tftxt\n",
    "# from tensorflow_text.tools.wordpiece_vocab import bert_vocab_from_dataset as bert_vocab\n",
    "# import tensorflow_datasets as tfds\n",
    "from pickle import dump, load\n",
    "import numpy as np\n",
    "from numpy.random import rand, shuffle\n",
    "import re\n",
    "from unicodedata import normalize"
   ]
  },
  {
   "cell_type": "markdown",
   "metadata": {
    "id": "muF2vIFkAdtw"
   },
   "source": [
    "## Load the data"
   ]
  },
  {
   "cell_type": "code",
   "execution_count": 15,
   "metadata": {
    "id": "p2ZoBc8tWIi1"
   },
   "outputs": [],
   "source": [
    "filename = '../data/deu.txt'\n",
    "with open(filename, 'rt', encoding='utf-8') as f:\n",
    "  text = f.read()\n",
    "  f.close()"
   ]
  },
  {
   "cell_type": "code",
   "execution_count": 16,
   "metadata": {
    "colab": {
     "base_uri": "https://localhost:8080/"
    },
    "id": "k87y0fpW1AtD",
    "outputId": "3e299802-d574-48a6-8b21-5e1a67aefee6"
   },
   "outputs": [
    {
     "name": "stdout",
     "output_type": "stream",
     "text": [
      "<class 'str'>\n"
     ]
    }
   ],
   "source": [
    "print(type(text))"
   ]
  },
  {
   "cell_type": "code",
   "execution_count": 17,
   "metadata": {},
   "outputs": [
    {
     "name": "stdout",
     "output_type": "stream",
     "text": [
      "Go.\tGeh.\tCC-BY 2.0 (France) Attribution: tatoeba.org #2877272 (CM) & #8597805 (Roujin)\n",
      "Hi.\tHallo!\tCC-BY 2.0 (France) Attribution: tatoeba.org #538123 (CM) & #380701 (cburgmer)\n",
      "Hi.\tGrüß Gott!\tCC-BY 2.0 (France) Attribution: tatoeba.org #538123 (CM) & #659813 (Esperantostern)\n",
      "Run!\tLauf!\tCC-BY 2.0 (France) Attribution: tatoeba.org #906328 (papabear) & #941078 (Fingerhut)\n",
      "Run.\tLauf!\tCC-BY 2.0 (France) Attribution: tatoeba.org #4008918 (JSakuragi) & #941078 (Fingerhut)\n",
      "Wow!\tPotzdonner!\tCC-BY 2.0 (France) Attribution: tatoeba.org #52027 (Zifre) & #2122382 (Pfirsichbaeumchen)\n",
      "Wow!\tDonnerwetter!\tCC-BY 2.0 (France) Attribution: tatoeba.org #52027 (Zifre) & #2122391 (Pfirsichbaeumchen)\n",
      "Duck!\tKopf runter!\tCC-BY 2.0 (France) Attribution: tatoeba.org #280158 (CM) & #9968521 (wolfgangth)\n",
      "Fire!\tFeuer!\tCC-BY 2.0 (France) Attribution: tatoeba.org #1829639 (Spamster) & #1958697 (Tamy)\n",
      "Help!\tHilfe!\tCC-BY 2.0 (France) Attribution: tatoeba.org #435084 (lukaszpp) & #575889 (MUIRIEL)\n"
     ]
    }
   ],
   "source": [
    "lines = text.strip().split('\\n')\n",
    "for i, p in enumerate(lines):\n",
    "  if i ==10: break\n",
    "  print(p)"
   ]
  },
  {
   "cell_type": "markdown",
   "metadata": {},
   "source": [
    "## Remove the third column"
   ]
  },
  {
   "cell_type": "code",
   "execution_count": 18,
   "metadata": {
    "colab": {
     "base_uri": "https://localhost:8080/"
    },
    "id": "8o1TiuUM1Aq6",
    "outputId": "c40881b1-2130-4ef8-a26e-422515b955c9"
   },
   "outputs": [
    {
     "name": "stdout",
     "output_type": "stream",
     "text": [
      "['Go.', 'Geh.']\n",
      "['Hi.', 'Hallo!']\n",
      "['Hi.', 'Grüß Gott!']\n",
      "['Run!', 'Lauf!']\n",
      "['Run.', 'Lauf!']\n",
      "['Wow!', 'Potzdonner!']\n",
      "['Wow!', 'Donnerwetter!']\n",
      "['Duck!', 'Kopf runter!']\n",
      "['Fire!', 'Feuer!']\n",
      "['Help!', 'Hilfe!']\n"
     ]
    }
   ],
   "source": [
    "pairs = [l.split('\\t')[0:2] for l in lines]\n",
    "for i, p in enumerate(pairs):\n",
    "  if i ==10: break\n",
    "  print(p)"
   ]
  },
  {
   "cell_type": "markdown",
   "metadata": {},
   "source": [
    "## Normalization - Canonical Decomposition "
   ]
  },
  {
   "cell_type": "code",
   "execution_count": 24,
   "metadata": {
    "colab": {
     "base_uri": "https://localhost:8080/"
    },
    "id": "hHzBQb_s1Aos",
    "outputId": "3483cad4-3fd3-4df7-819d-46b04b5ed2c9"
   },
   "outputs": [
    {
     "name": "stdout",
     "output_type": "stream",
     "text": [
      "[b'Geh.', b'Go.']\n",
      "[b'Hallo!', b'Hi.']\n",
      "[b'Gru\\xcc\\x88\\xc3\\x9f Gott!', b'Hi.']\n",
      "[b'Lauf!', b'Run!']\n",
      "[b'Lauf!', b'Run.']\n",
      "[b'Potzdonner!', b'Wow!']\n",
      "[b'Donnerwetter!', b'Wow!']\n",
      "[b'Kopf runter!', b'Duck!']\n",
      "[b'Feuer!', b'Fire!']\n",
      "[b'Hilfe!', b'Help!']\n"
     ]
    }
   ],
   "source": [
    "cleaned = list()\n",
    "for i, pair in enumerate(pairs):\n",
    "  clean_pair = list()\n",
    "  for sentence in pair:\n",
    "    sentence = normalize('NFD', sentence)\n",
    "    sentence = sentence.encode('utf-8')\n",
    "    clean_pair.append(sentence)\n",
    "  cleaned.append(clean_pair[::-1])\n",
    "\n",
    "for i, p in enumerate(cleaned):\n",
    "  if i ==10: break\n",
    "  print(p)"
   ]
  },
  {
   "cell_type": "markdown",
   "metadata": {},
   "source": [
    "## Split data set into train, validation, and test sets"
   ]
  },
  {
   "cell_type": "code",
   "execution_count": 26,
   "metadata": {},
   "outputs": [
    {
     "name": "stdout",
     "output_type": "stream",
     "text": [
      "261499\n"
     ]
    }
   ],
   "source": [
    "print(n_sentence)"
   ]
  },
  {
   "cell_type": "code",
   "execution_count": 27,
   "metadata": {
    "colab": {
     "base_uri": "https://localhost:8080/"
    },
    "id": "B1c_45Nf1Ak6",
    "outputId": "d12b7090-6ca2-45b6-9fe2-15b0f859a2f4"
   },
   "outputs": [
    {
     "name": "stdout",
     "output_type": "stream",
     "text": [
      "[b'Tom zahlt ein Bu\\xc3\\x9fgeld.' b'Tom is paying a fine.']\n",
      "[b'Unter dem Bett ist eine Katze.' b'There is a cat under the bed.']\n",
      "[b'Tom wollte, dass ich lu\\xcc\\x88ge.' b'Tom wanted me to lie.']\n",
      "[b'Gefa\\xcc\\x88llt es euch, so zu leben?'\n",
      " b'Do you enjoy living like this?']\n",
      "[b'Tom und Maria sa\\xc3\\x9fen auf ihren u\\xcc\\x88blichen Pla\\xcc\\x88tzen.'\n",
      " b'Tom and Mary were sitting in their usual places.']\n",
      "[b'Tom ist einer der Besten in der Branche.'\n",
      " b'Tom is one of the best in the business.']\n",
      "[b'Der britische Kommandeur befahl seinen Ma\\xcc\\x88nnern, sich zur Nachtruhe zu begeben.'\n",
      " b'The British commander ordered his men to rest for the night.']\n",
      "[b'Tom und Maria sind getrennte Wege gegangen.'\n",
      " b'Tom and Mary have gone their separate ways.']\n",
      "[b'Das ist eine schwierige Sache.' b\"It's a difficult question.\"]\n",
      "[b'Seit seinem Schulabschluss versucht Tom, Mary dazu zu bringen, ihn zu heiraten.'\n",
      " b'Tom has been trying to get Mary to marry him ever since he graduated from high school.']\n"
     ]
    }
   ],
   "source": [
    "n_sentence = len(cleaned)\n",
    "train_ratio = 0.8\n",
    "val_ratio   = 0.1\n",
    "test_ratio  = 0.1\n",
    "dataset = np.array(cleaned)\n",
    "shuffle(dataset)\n",
    "\n",
    "for i, p in enumerate(dataset):\n",
    "  if i ==10: break\n",
    "  print(p)\n",
    "\n",
    "train = dataset[ : int(n_sentence*train_ratio)]\n",
    "val = dataset[int(n_sentence*train_ratio) : int(n_sentence*(train_ratio+val_ratio))]\n",
    "test = dataset[int(n_sentence*(train_ratio+val_ratio)) : int(n_sentence*(train_ratio+val_ratio+test_ratio))]"
   ]
  },
  {
   "cell_type": "code",
   "execution_count": 28,
   "metadata": {
    "id": "HXd6NoeTs_Lh"
   },
   "outputs": [
    {
     "name": "stdout",
     "output_type": "stream",
     "text": [
      "209199 26150 26150\n"
     ]
    }
   ],
   "source": [
    "print(len(train), len(val), len(test))"
   ]
  },
  {
   "cell_type": "markdown",
   "metadata": {
    "id": "RrwlIufpnyAq"
   },
   "source": [
    "## Save to txt"
   ]
  },
  {
   "cell_type": "markdown",
   "metadata": {},
   "source": [
    "Sentence are saved in string form "
   ]
  },
  {
   "cell_type": "code",
   "execution_count": 46,
   "metadata": {},
   "outputs": [
    {
     "name": "stdout",
     "output_type": "stream",
     "text": [
      "CPU times: total: 453 ms\n",
      "Wall time: 488 ms\n"
     ]
    }
   ],
   "source": [
    "%%time\n",
    "with open(\"../data/deu-eng-train.txt\", \"w\", encoding=\"utf-8\") as output:\n",
    "  for i, p in enumerate(train):\n",
    "    output.write(p[0].decode('utf-8') + '\\t' + p[1].decode('utf-8') + '\\n')\n",
    "\n",
    "with open(\"../data/deu-eng-val.txt\", \"w\", encoding=\"utf-8\") as output:\n",
    "  for i, p in enumerate(val):\n",
    "    output.write(p[0].decode('utf-8') + '\\t' + p[1].decode('utf-8') + '\\n')\n",
    "\n",
    "with open(\"../data/deu-eng-test.txt\", \"w\", encoding=\"utf-8\") as output:\n",
    "  for i, p in enumerate(test):\n",
    "    output.write(p[0].decode('utf-8') + '\\t' + p[1].decode('utf-8') + '\\n')"
   ]
  },
  {
   "cell_type": "markdown",
   "metadata": {
    "id": "PdUV4hbxAt_o"
   },
   "source": [
    "## Save to Pkl"
   ]
  },
  {
   "cell_type": "markdown",
   "metadata": {},
   "source": [
    "Sentence are saved in Byte datastructure "
   ]
  },
  {
   "cell_type": "code",
   "execution_count": 49,
   "metadata": {
    "colab": {
     "base_uri": "https://localhost:8080/"
    },
    "id": "dQePIPG9Avpo",
    "outputId": "7b7c5a8f-7e13-4833-b00d-ee4c28bf144c"
   },
   "outputs": [
    {
     "name": "stdout",
     "output_type": "stream",
     "text": [
      "CPU times: total: 125 ms\n",
      "Wall time: 271 ms\n"
     ]
    }
   ],
   "source": [
    "%%time\n",
    "dump(train, open(\"../data/deu-eng-train.pkl\", 'wb'))\n",
    "dump(val, open(\"../data/deu-eng-val.pkl\", 'wb'))\n",
    "dump(test, open(\"../data/deu-eng-test.pkl\", 'wb'))"
   ]
  },
  {
   "cell_type": "markdown",
   "metadata": {
    "id": "6KUIvDlKKsHL"
   },
   "source": [
    "## Load from Pkl"
   ]
  },
  {
   "cell_type": "code",
   "execution_count": 53,
   "metadata": {
    "colab": {
     "base_uri": "https://localhost:8080/"
    },
    "id": "k42Q_k1wfRV-",
    "outputId": "de2aee8e-671d-4680-cc61-dc9a266bb61c"
   },
   "outputs": [
    {
     "name": "stdout",
     "output_type": "stream",
     "text": [
      "b'Tom zahlt ein Bu\\xc3\\x9fgeld.'\n",
      "Tom zahlt ein Bußgeld.\n",
      "b'Tom is paying a fine.'\n",
      "Tom is paying a fine.\n",
      "\n",
      "\n",
      "b'Unter dem Bett ist eine Katze.'\n",
      "Unter dem Bett ist eine Katze.\n",
      "b'There is a cat under the bed.'\n",
      "There is a cat under the bed.\n",
      "\n",
      "\n",
      "b'Tom wollte, dass ich lu\\xcc\\x88ge.'\n",
      "Tom wollte, dass ich lüge.\n",
      "b'Tom wanted me to lie.'\n",
      "Tom wanted me to lie.\n",
      "\n",
      "\n"
     ]
    }
   ],
   "source": [
    "filename = '../data/deu-eng-train.pkl'\n",
    "with open(filename, 'rb') as file:\n",
    "  dataset = load(file)\n",
    "for i, pair in enumerate(dataset):\n",
    "  if i == 3: break\n",
    "  print(pair[0])\n",
    "  print(pair[0].decode('utf-8'))\n",
    "  print(pair[1])\n",
    "  print(pair[1].decode('utf-8'))\n",
    "  print('\\n')"
   ]
  },
  {
   "cell_type": "markdown",
   "metadata": {
    "id": "Q9x0Uw9TLwZh"
   },
   "source": [
    "# Conclusion"
   ]
  }
 ],
 "metadata": {
  "colab": {
   "provenance": [],
   "toc_visible": true
  },
  "kernelspec": {
   "display_name": "Python 3 (ipykernel)",
   "language": "python",
   "name": "python3"
  },
  "language_info": {
   "codemirror_mode": {
    "name": "ipython",
    "version": 3
   },
   "file_extension": ".py",
   "mimetype": "text/x-python",
   "name": "python",
   "nbconvert_exporter": "python",
   "pygments_lexer": "ipython3",
   "version": "3.10.2"
  }
 },
 "nbformat": 4,
 "nbformat_minor": 1
}
